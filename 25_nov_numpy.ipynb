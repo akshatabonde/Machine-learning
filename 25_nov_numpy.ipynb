{
 "cells": [
  {
   "cell_type": "code",
   "execution_count": 1,
   "id": "aaa38616",
   "metadata": {},
   "outputs": [],
   "source": [
    "#user define function"
   ]
  },
  {
   "cell_type": "code",
   "execution_count": 2,
   "id": "640a9bd4",
   "metadata": {},
   "outputs": [],
   "source": [
    "def av(num):\n",
    "    return num**2"
   ]
  },
  {
   "cell_type": "code",
   "execution_count": 3,
   "id": "5d42d0ec",
   "metadata": {},
   "outputs": [
    {
     "data": {
      "text/plain": [
       "function"
      ]
     },
     "execution_count": 3,
     "metadata": {},
     "output_type": "execute_result"
    }
   ],
   "source": [
    "type(av)"
   ]
  },
  {
   "cell_type": "code",
   "execution_count": 4,
   "id": "26bbb0be",
   "metadata": {},
   "outputs": [
    {
     "data": {
      "text/plain": [
       "25"
      ]
     },
     "execution_count": 4,
     "metadata": {},
     "output_type": "execute_result"
    }
   ],
   "source": [
    "av(5)"
   ]
  },
  {
   "cell_type": "code",
   "execution_count": 5,
   "id": "02b8d1cb",
   "metadata": {},
   "outputs": [
    {
     "data": {
      "text/plain": [
       "16"
      ]
     },
     "execution_count": 5,
     "metadata": {},
     "output_type": "execute_result"
    }
   ],
   "source": [
    "av(4)"
   ]
  },
  {
   "cell_type": "code",
   "execution_count": 6,
   "id": "465198e7",
   "metadata": {},
   "outputs": [],
   "source": [
    "def add (a,b):\n",
    "    c = a+b\n",
    "    return c"
   ]
  },
  {
   "cell_type": "code",
   "execution_count": 7,
   "id": "781efb72",
   "metadata": {},
   "outputs": [
    {
     "data": {
      "text/plain": [
       "90"
      ]
     },
     "execution_count": 7,
     "metadata": {},
     "output_type": "execute_result"
    }
   ],
   "source": [
    "add(34,56)"
   ]
  },
  {
   "cell_type": "code",
   "execution_count": 8,
   "id": "3f752345",
   "metadata": {},
   "outputs": [],
   "source": [
    "def addt(a,b,c):\n",
    "        d = a+b+c\n",
    "        return d\n",
    "        "
   ]
  },
  {
   "cell_type": "code",
   "execution_count": 9,
   "id": "2cdb7c34",
   "metadata": {},
   "outputs": [
    {
     "data": {
      "text/plain": [
       "14"
      ]
     },
     "execution_count": 9,
     "metadata": {},
     "output_type": "execute_result"
    }
   ],
   "source": [
    "addt(3,4,7)"
   ]
  },
  {
   "cell_type": "code",
   "execution_count": 10,
   "id": "5d096fed",
   "metadata": {},
   "outputs": [],
   "source": [
    "def add(a,b):\n",
    "       return a+b"
   ]
  },
  {
   "cell_type": "code",
   "execution_count": 11,
   "id": "59027dde",
   "metadata": {},
   "outputs": [
    {
     "data": {
      "text/plain": [
       "5"
      ]
     },
     "execution_count": 11,
     "metadata": {},
     "output_type": "execute_result"
    }
   ],
   "source": [
    "add(2,3)"
   ]
  },
  {
   "cell_type": "code",
   "execution_count": 12,
   "id": "fcfff553",
   "metadata": {},
   "outputs": [],
   "source": [
    "#list Comprehensive"
   ]
  },
  {
   "cell_type": "code",
   "execution_count": 13,
   "id": "cd0dd5f5",
   "metadata": {},
   "outputs": [],
   "source": [
    "# allow to creat list from loop"
   ]
  },
  {
   "cell_type": "code",
   "execution_count": 16,
   "id": "6570955c",
   "metadata": {},
   "outputs": [],
   "source": [
    "x = [1,2,3,4]"
   ]
  },
  {
   "cell_type": "code",
   "execution_count": 17,
   "id": "8c077cb1",
   "metadata": {},
   "outputs": [],
   "source": [
    "out = []\n",
    "for i in x:\n",
    "    out.append(i**2)\n"
   ]
  },
  {
   "cell_type": "code",
   "execution_count": 18,
   "id": "0395a8fc",
   "metadata": {},
   "outputs": [
    {
     "data": {
      "text/plain": [
       "[1, 4, 9, 16]"
      ]
     },
     "execution_count": 18,
     "metadata": {},
     "output_type": "execute_result"
    }
   ],
   "source": [
    "out"
   ]
  },
  {
   "cell_type": "code",
   "execution_count": 19,
   "id": "f52a5ed7",
   "metadata": {},
   "outputs": [],
   "source": [
    "out1 = [i**2 for i in x]"
   ]
  },
  {
   "cell_type": "code",
   "execution_count": 20,
   "id": "d267e41e",
   "metadata": {},
   "outputs": [
    {
     "data": {
      "text/plain": [
       "[1, 4, 9, 16]"
      ]
     },
     "execution_count": 20,
     "metadata": {},
     "output_type": "execute_result"
    }
   ],
   "source": [
    "out1"
   ]
  },
  {
   "cell_type": "code",
   "execution_count": 21,
   "id": "d0a695ad",
   "metadata": {},
   "outputs": [],
   "source": [
    "out2 = [i**3 for i in x]"
   ]
  },
  {
   "cell_type": "code",
   "execution_count": 22,
   "id": "3638e05e",
   "metadata": {},
   "outputs": [
    {
     "data": {
      "text/plain": [
       "[1, 8, 27, 64]"
      ]
     },
     "execution_count": 22,
     "metadata": {},
     "output_type": "execute_result"
    }
   ],
   "source": [
    "out2"
   ]
  },
  {
   "cell_type": "code",
   "execution_count": 23,
   "id": "4e1a4b1d",
   "metadata": {},
   "outputs": [],
   "source": [
    "import numpy as np"
   ]
  },
  {
   "cell_type": "code",
   "execution_count": 24,
   "id": "c7e8b0e0",
   "metadata": {},
   "outputs": [],
   "source": [
    "my_list = [3,4,2,6,8,4]"
   ]
  },
  {
   "cell_type": "code",
   "execution_count": 25,
   "id": "d2720d63",
   "metadata": {},
   "outputs": [
    {
     "data": {
      "text/plain": [
       "[3, 4, 2, 6, 8, 4]"
      ]
     },
     "execution_count": 25,
     "metadata": {},
     "output_type": "execute_result"
    }
   ],
   "source": [
    "my_list"
   ]
  },
  {
   "cell_type": "code",
   "execution_count": 26,
   "id": "ac3a4a9c",
   "metadata": {},
   "outputs": [],
   "source": [
    "#1D"
   ]
  },
  {
   "cell_type": "code",
   "execution_count": 28,
   "id": "6190f987",
   "metadata": {},
   "outputs": [],
   "source": [
    "arr = np.array(my_list)"
   ]
  },
  {
   "cell_type": "code",
   "execution_count": 29,
   "id": "5b460ef1",
   "metadata": {},
   "outputs": [
    {
     "data": {
      "text/plain": [
       "array([3, 4, 2, 6, 8, 4])"
      ]
     },
     "execution_count": 29,
     "metadata": {},
     "output_type": "execute_result"
    }
   ],
   "source": [
    "arr"
   ]
  },
  {
   "cell_type": "code",
   "execution_count": 30,
   "id": "21d75796",
   "metadata": {},
   "outputs": [],
   "source": [
    "arr1 = np.array([45,23,56,78,9])"
   ]
  },
  {
   "cell_type": "code",
   "execution_count": 31,
   "id": "c6760ee2",
   "metadata": {},
   "outputs": [
    {
     "data": {
      "text/plain": [
       "array([45, 23, 56, 78,  9])"
      ]
     },
     "execution_count": 31,
     "metadata": {},
     "output_type": "execute_result"
    }
   ],
   "source": [
    "arr1"
   ]
  },
  {
   "cell_type": "code",
   "execution_count": 33,
   "id": "fb87d1c4",
   "metadata": {},
   "outputs": [
    {
     "data": {
      "text/plain": [
       "numpy.ndarray"
      ]
     },
     "execution_count": 33,
     "metadata": {},
     "output_type": "execute_result"
    }
   ],
   "source": [
    "type(arr)"
   ]
  },
  {
   "cell_type": "code",
   "execution_count": 34,
   "id": "3a24fa3f",
   "metadata": {},
   "outputs": [
    {
     "data": {
      "text/plain": [
       "numpy.ndarray"
      ]
     },
     "execution_count": 34,
     "metadata": {},
     "output_type": "execute_result"
    }
   ],
   "source": [
    "type(arr1)"
   ]
  },
  {
   "cell_type": "code",
   "execution_count": 35,
   "id": "d8b29f7d",
   "metadata": {},
   "outputs": [
    {
     "data": {
      "text/plain": [
       "(5,)"
      ]
     },
     "execution_count": 35,
     "metadata": {},
     "output_type": "execute_result"
    }
   ],
   "source": [
    "arr1.shape\n"
   ]
  },
  {
   "cell_type": "code",
   "execution_count": 36,
   "id": "a026e50e",
   "metadata": {},
   "outputs": [
    {
     "data": {
      "text/plain": [
       "(6,)"
      ]
     },
     "execution_count": 36,
     "metadata": {},
     "output_type": "execute_result"
    }
   ],
   "source": [
    "arr.shape"
   ]
  },
  {
   "cell_type": "code",
   "execution_count": 37,
   "id": "64825f52",
   "metadata": {},
   "outputs": [
    {
     "data": {
      "text/plain": [
       "array([3, 4, 2, 6, 8, 4])"
      ]
     },
     "execution_count": 37,
     "metadata": {},
     "output_type": "execute_result"
    }
   ],
   "source": [
    "arr"
   ]
  },
  {
   "cell_type": "code",
   "execution_count": 38,
   "id": "a8e1ed2b",
   "metadata": {},
   "outputs": [],
   "source": [
    "#2D"
   ]
  },
  {
   "cell_type": "code",
   "execution_count": 39,
   "id": "8bd8cd75",
   "metadata": {},
   "outputs": [],
   "source": [
    "my_mat = np.array([[1,2,3],[3,4,7],[6,8,2],[34,7,9]])"
   ]
  },
  {
   "cell_type": "code",
   "execution_count": 40,
   "id": "7526dd0c",
   "metadata": {},
   "outputs": [
    {
     "data": {
      "text/plain": [
       "array([[ 1,  2,  3],\n",
       "       [ 3,  4,  7],\n",
       "       [ 6,  8,  2],\n",
       "       [34,  7,  9]])"
      ]
     },
     "execution_count": 40,
     "metadata": {},
     "output_type": "execute_result"
    }
   ],
   "source": [
    "my_mat"
   ]
  },
  {
   "cell_type": "code",
   "execution_count": 41,
   "id": "33e0bd50",
   "metadata": {},
   "outputs": [
    {
     "data": {
      "text/plain": [
       "numpy.ndarray"
      ]
     },
     "execution_count": 41,
     "metadata": {},
     "output_type": "execute_result"
    }
   ],
   "source": [
    "type(my_mat)"
   ]
  },
  {
   "cell_type": "code",
   "execution_count": 42,
   "id": "b2cd01a0",
   "metadata": {},
   "outputs": [
    {
     "data": {
      "text/plain": [
       "(4, 3)"
      ]
     },
     "execution_count": 42,
     "metadata": {},
     "output_type": "execute_result"
    }
   ],
   "source": [
    "my_mat.shape"
   ]
  },
  {
   "cell_type": "code",
   "execution_count": 43,
   "id": "a18a31b3",
   "metadata": {},
   "outputs": [],
   "source": [
    "#(row,column)"
   ]
  },
  {
   "cell_type": "code",
   "execution_count": 44,
   "id": "18fa48df",
   "metadata": {},
   "outputs": [],
   "source": [
    "my_mat2 = np.array([[2,3],[3,6]])"
   ]
  },
  {
   "cell_type": "code",
   "execution_count": 45,
   "id": "680d87ed",
   "metadata": {},
   "outputs": [
    {
     "data": {
      "text/plain": [
       "array([[2, 3],\n",
       "       [3, 6]])"
      ]
     },
     "execution_count": 45,
     "metadata": {},
     "output_type": "execute_result"
    }
   ],
   "source": [
    "my_mat2"
   ]
  },
  {
   "cell_type": "code",
   "execution_count": 46,
   "id": "6552c70b",
   "metadata": {},
   "outputs": [
    {
     "data": {
      "text/plain": [
       "(2, 2)"
      ]
     },
     "execution_count": 46,
     "metadata": {},
     "output_type": "execute_result"
    }
   ],
   "source": [
    "my_mat2.shape"
   ]
  },
  {
   "cell_type": "code",
   "execution_count": null,
   "id": "d88d498f",
   "metadata": {},
   "outputs": [],
   "source": []
  }
 ],
 "metadata": {
  "kernelspec": {
   "display_name": "Python 3",
   "language": "python",
   "name": "python3"
  },
  "language_info": {
   "codemirror_mode": {
    "name": "ipython",
    "version": 3
   },
   "file_extension": ".py",
   "mimetype": "text/x-python",
   "name": "python",
   "nbconvert_exporter": "python",
   "pygments_lexer": "ipython3",
   "version": "3.6.13"
  }
 },
 "nbformat": 4,
 "nbformat_minor": 5
}
