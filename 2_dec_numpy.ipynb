{
 "cells": [
  {
   "cell_type": "code",
   "execution_count": 1,
   "id": "80ec03d9",
   "metadata": {},
   "outputs": [],
   "source": [
    "import numpy as np"
   ]
  },
  {
   "cell_type": "code",
   "execution_count": 2,
   "id": "cf8b9e13",
   "metadata": {},
   "outputs": [],
   "source": [
    "arr1 = np.array([34,56,3,67,23,22,78,9])"
   ]
  },
  {
   "cell_type": "code",
   "execution_count": 3,
   "id": "aa9fe2ec",
   "metadata": {},
   "outputs": [
    {
     "data": {
      "text/plain": [
       "(8,)"
      ]
     },
     "execution_count": 3,
     "metadata": {},
     "output_type": "execute_result"
    }
   ],
   "source": [
    "arr1.shape"
   ]
  },
  {
   "cell_type": "code",
   "execution_count": 4,
   "id": "8a36fc20",
   "metadata": {},
   "outputs": [
    {
     "data": {
      "text/plain": [
       "3"
      ]
     },
     "execution_count": 4,
     "metadata": {},
     "output_type": "execute_result"
    }
   ],
   "source": [
    "arr1[2]"
   ]
  },
  {
   "cell_type": "code",
   "execution_count": 5,
   "id": "264ec0e6",
   "metadata": {},
   "outputs": [
    {
     "data": {
      "text/plain": [
       "78"
      ]
     },
     "execution_count": 5,
     "metadata": {},
     "output_type": "execute_result"
    }
   ],
   "source": [
    "arr1[6]"
   ]
  },
  {
   "cell_type": "code",
   "execution_count": 6,
   "id": "d1640b4d",
   "metadata": {},
   "outputs": [
    {
     "data": {
      "text/plain": [
       "9"
      ]
     },
     "execution_count": 6,
     "metadata": {},
     "output_type": "execute_result"
    }
   ],
   "source": [
    "arr1[-1]"
   ]
  },
  {
   "cell_type": "code",
   "execution_count": 7,
   "id": "4e956835",
   "metadata": {},
   "outputs": [
    {
     "data": {
      "text/plain": [
       "array([ 3, 67, 23])"
      ]
     },
     "execution_count": 7,
     "metadata": {},
     "output_type": "execute_result"
    }
   ],
   "source": [
    "arr1[2:5]"
   ]
  },
  {
   "cell_type": "code",
   "execution_count": 8,
   "id": "ceb7d40b",
   "metadata": {},
   "outputs": [],
   "source": [
    "arr2 = np.array([[2,34,56],[67,34,68],[45,2,7],[48,23,1]])"
   ]
  },
  {
   "cell_type": "code",
   "execution_count": 9,
   "id": "9e47c965",
   "metadata": {},
   "outputs": [
    {
     "data": {
      "text/plain": [
       "array([[ 2, 34, 56],\n",
       "       [67, 34, 68],\n",
       "       [45,  2,  7],\n",
       "       [48, 23,  1]])"
      ]
     },
     "execution_count": 9,
     "metadata": {},
     "output_type": "execute_result"
    }
   ],
   "source": [
    "arr2"
   ]
  },
  {
   "cell_type": "code",
   "execution_count": 10,
   "id": "aa979228",
   "metadata": {},
   "outputs": [
    {
     "data": {
      "text/plain": [
       "(4, 3)"
      ]
     },
     "execution_count": 10,
     "metadata": {},
     "output_type": "execute_result"
    }
   ],
   "source": [
    "arr2.shape"
   ]
  },
  {
   "cell_type": "code",
   "execution_count": 11,
   "id": "b9ff8a6b",
   "metadata": {},
   "outputs": [
    {
     "data": {
      "text/plain": [
       "array([67, 34, 68])"
      ]
     },
     "execution_count": 11,
     "metadata": {},
     "output_type": "execute_result"
    }
   ],
   "source": [
    "arr2[1]"
   ]
  },
  {
   "cell_type": "code",
   "execution_count": 12,
   "id": "69920a7d",
   "metadata": {},
   "outputs": [],
   "source": [
    "#arr2[st:end,st:end]"
   ]
  },
  {
   "cell_type": "code",
   "execution_count": 13,
   "id": "0b5582c9",
   "metadata": {},
   "outputs": [
    {
     "data": {
      "text/plain": [
       "array([34, 34,  2, 23])"
      ]
     },
     "execution_count": 13,
     "metadata": {},
     "output_type": "execute_result"
    }
   ],
   "source": [
    "arr2[:,1]"
   ]
  },
  {
   "cell_type": "code",
   "execution_count": 14,
   "id": "edd1aaf7",
   "metadata": {},
   "outputs": [
    {
     "data": {
      "text/plain": [
       "array([34, 34,  2])"
      ]
     },
     "execution_count": 14,
     "metadata": {},
     "output_type": "execute_result"
    }
   ],
   "source": [
    "arr2[:3,1]"
   ]
  },
  {
   "cell_type": "code",
   "execution_count": 15,
   "id": "ff61ce23",
   "metadata": {},
   "outputs": [
    {
     "data": {
      "text/plain": [
       "array([[ 2, 34, 56],\n",
       "       [67, 34, 68],\n",
       "       [45,  2,  7],\n",
       "       [48, 23,  1]])"
      ]
     },
     "execution_count": 15,
     "metadata": {},
     "output_type": "execute_result"
    }
   ],
   "source": [
    "arr2"
   ]
  },
  {
   "cell_type": "code",
   "execution_count": 16,
   "id": "37e867f2",
   "metadata": {},
   "outputs": [
    {
     "data": {
      "text/plain": [
       "array([[34, 56],\n",
       "       [34, 68],\n",
       "       [ 2,  7]])"
      ]
     },
     "execution_count": 16,
     "metadata": {},
     "output_type": "execute_result"
    }
   ],
   "source": [
    "arr2[0:3,1:]"
   ]
  },
  {
   "cell_type": "code",
   "execution_count": 17,
   "id": "f7e9a6e3",
   "metadata": {},
   "outputs": [
    {
     "data": {
      "text/plain": [
       "array([[67, 34, 68],\n",
       "       [45,  2,  7]])"
      ]
     },
     "execution_count": 17,
     "metadata": {},
     "output_type": "execute_result"
    }
   ],
   "source": [
    "arr2[1:3]"
   ]
  },
  {
   "cell_type": "code",
   "execution_count": 18,
   "id": "914b3d12",
   "metadata": {},
   "outputs": [
    {
     "data": {
      "text/plain": [
       "array([[67, 34],\n",
       "       [45,  2]])"
      ]
     },
     "execution_count": 18,
     "metadata": {},
     "output_type": "execute_result"
    }
   ],
   "source": [
    "arr2[1:3,0:2]"
   ]
  },
  {
   "cell_type": "code",
   "execution_count": 19,
   "id": "0dad008a",
   "metadata": {},
   "outputs": [],
   "source": [
    "import pandas as pd"
   ]
  },
  {
   "cell_type": "code",
   "execution_count": 20,
   "id": "ed8f658e",
   "metadata": {},
   "outputs": [],
   "source": [
    "label = ['a','b','c']"
   ]
  },
  {
   "cell_type": "code",
   "execution_count": 21,
   "id": "570eb1d8",
   "metadata": {},
   "outputs": [],
   "source": [
    "my_data = [45,65,8]"
   ]
  },
  {
   "cell_type": "code",
   "execution_count": 22,
   "id": "c1e08916",
   "metadata": {},
   "outputs": [],
   "source": [
    "arr = np.array([89,5,6])"
   ]
  },
  {
   "cell_type": "code",
   "execution_count": 23,
   "id": "57c17adb",
   "metadata": {},
   "outputs": [],
   "source": [
    "d = {'x':34,'y':67,'z':56}"
   ]
  },
  {
   "cell_type": "code",
   "execution_count": 24,
   "id": "9befe5c5",
   "metadata": {},
   "outputs": [
    {
     "data": {
      "text/plain": [
       "{'x': 34, 'y': 67, 'z': 56}"
      ]
     },
     "execution_count": 24,
     "metadata": {},
     "output_type": "execute_result"
    }
   ],
   "source": [
    "d"
   ]
  },
  {
   "cell_type": "code",
   "execution_count": 27,
   "id": "c5b01012",
   "metadata": {},
   "outputs": [],
   "source": [
    "ser1 = pd.Series(my_data)"
   ]
  },
  {
   "cell_type": "code",
   "execution_count": 28,
   "id": "d1810010",
   "metadata": {},
   "outputs": [
    {
     "data": {
      "text/plain": [
       "0    45\n",
       "1    65\n",
       "2     8\n",
       "dtype: int64"
      ]
     },
     "execution_count": 28,
     "metadata": {},
     "output_type": "execute_result"
    }
   ],
   "source": [
    "ser1"
   ]
  },
  {
   "cell_type": "code",
   "execution_count": 29,
   "id": "d582f2dc",
   "metadata": {},
   "outputs": [],
   "source": [
    "ser2 = pd.Series(my_data,index=label)"
   ]
  },
  {
   "cell_type": "code",
   "execution_count": 30,
   "id": "fc4c4258",
   "metadata": {},
   "outputs": [
    {
     "data": {
      "text/plain": [
       "a    45\n",
       "b    65\n",
       "c     8\n",
       "dtype: int64"
      ]
     },
     "execution_count": 30,
     "metadata": {},
     "output_type": "execute_result"
    }
   ],
   "source": [
    "ser2"
   ]
  },
  {
   "cell_type": "code",
   "execution_count": 31,
   "id": "57459663",
   "metadata": {},
   "outputs": [],
   "source": [
    "ser2 = pd.Series(d)"
   ]
  },
  {
   "cell_type": "code",
   "execution_count": 32,
   "id": "294435be",
   "metadata": {},
   "outputs": [
    {
     "data": {
      "text/plain": [
       "x    34\n",
       "y    67\n",
       "z    56\n",
       "dtype: int64"
      ]
     },
     "execution_count": 32,
     "metadata": {},
     "output_type": "execute_result"
    }
   ],
   "source": [
    "ser2"
   ]
  },
  {
   "cell_type": "code",
   "execution_count": 33,
   "id": "287df85e",
   "metadata": {},
   "outputs": [],
   "source": [
    "ser3 = pd.Series([45,89,6,87,69])"
   ]
  },
  {
   "cell_type": "code",
   "execution_count": 34,
   "id": "05a616ce",
   "metadata": {},
   "outputs": [
    {
     "data": {
      "text/plain": [
       "0    45\n",
       "1    89\n",
       "2     6\n",
       "3    87\n",
       "4    69\n",
       "dtype: int64"
      ]
     },
     "execution_count": 34,
     "metadata": {},
     "output_type": "execute_result"
    }
   ],
   "source": [
    "ser3"
   ]
  },
  {
   "cell_type": "code",
   "execution_count": 35,
   "id": "ed70b657",
   "metadata": {},
   "outputs": [],
   "source": [
    "#Datafram"
   ]
  },
  {
   "cell_type": "code",
   "execution_count": 36,
   "id": "46d2013e",
   "metadata": {},
   "outputs": [],
   "source": [
    "df = pd.DataFrame(np.random.rand(5,4),columns=['drusti','avanti','akshata','prajawal'],index=['a','b','x','y','z'])"
   ]
  },
  {
   "cell_type": "code",
   "execution_count": 37,
   "id": "897d2cf2",
   "metadata": {},
   "outputs": [
    {
     "data": {
      "text/html": [
       "<div>\n",
       "<style scoped>\n",
       "    .dataframe tbody tr th:only-of-type {\n",
       "        vertical-align: middle;\n",
       "    }\n",
       "\n",
       "    .dataframe tbody tr th {\n",
       "        vertical-align: top;\n",
       "    }\n",
       "\n",
       "    .dataframe thead th {\n",
       "        text-align: right;\n",
       "    }\n",
       "</style>\n",
       "<table border=\"1\" class=\"dataframe\">\n",
       "  <thead>\n",
       "    <tr style=\"text-align: right;\">\n",
       "      <th></th>\n",
       "      <th>drusti</th>\n",
       "      <th>avanti</th>\n",
       "      <th>akshata</th>\n",
       "      <th>prajawal</th>\n",
       "    </tr>\n",
       "  </thead>\n",
       "  <tbody>\n",
       "    <tr>\n",
       "      <th>a</th>\n",
       "      <td>0.312543</td>\n",
       "      <td>0.108644</td>\n",
       "      <td>0.888832</td>\n",
       "      <td>0.239917</td>\n",
       "    </tr>\n",
       "    <tr>\n",
       "      <th>b</th>\n",
       "      <td>0.987882</td>\n",
       "      <td>0.211545</td>\n",
       "      <td>0.757155</td>\n",
       "      <td>0.207747</td>\n",
       "    </tr>\n",
       "    <tr>\n",
       "      <th>x</th>\n",
       "      <td>0.907623</td>\n",
       "      <td>0.263075</td>\n",
       "      <td>0.327142</td>\n",
       "      <td>0.965339</td>\n",
       "    </tr>\n",
       "    <tr>\n",
       "      <th>y</th>\n",
       "      <td>0.815577</td>\n",
       "      <td>0.111513</td>\n",
       "      <td>0.862501</td>\n",
       "      <td>0.577695</td>\n",
       "    </tr>\n",
       "    <tr>\n",
       "      <th>z</th>\n",
       "      <td>0.456181</td>\n",
       "      <td>0.583222</td>\n",
       "      <td>0.918884</td>\n",
       "      <td>0.885612</td>\n",
       "    </tr>\n",
       "  </tbody>\n",
       "</table>\n",
       "</div>"
      ],
      "text/plain": [
       "     drusti    avanti   akshata  prajawal\n",
       "a  0.312543  0.108644  0.888832  0.239917\n",
       "b  0.987882  0.211545  0.757155  0.207747\n",
       "x  0.907623  0.263075  0.327142  0.965339\n",
       "y  0.815577  0.111513  0.862501  0.577695\n",
       "z  0.456181  0.583222  0.918884  0.885612"
      ]
     },
     "execution_count": 37,
     "metadata": {},
     "output_type": "execute_result"
    }
   ],
   "source": [
    "df"
   ]
  },
  {
   "cell_type": "code",
   "execution_count": 38,
   "id": "7caf27b4",
   "metadata": {},
   "outputs": [
    {
     "data": {
      "text/plain": [
       "(5, 4)"
      ]
     },
     "execution_count": 38,
     "metadata": {},
     "output_type": "execute_result"
    }
   ],
   "source": [
    "df.shape"
   ]
  },
  {
   "cell_type": "code",
   "execution_count": 42,
   "id": "829ba23b",
   "metadata": {},
   "outputs": [],
   "source": [
    "df1 =pd.read_csv('sat.csv')"
   ]
  },
  {
   "cell_type": "code",
   "execution_count": 43,
   "id": "e8045eaa",
   "metadata": {},
   "outputs": [
    {
     "data": {
      "text/html": [
       "<div>\n",
       "<style scoped>\n",
       "    .dataframe tbody tr th:only-of-type {\n",
       "        vertical-align: middle;\n",
       "    }\n",
       "\n",
       "    .dataframe tbody tr th {\n",
       "        vertical-align: top;\n",
       "    }\n",
       "\n",
       "    .dataframe thead th {\n",
       "        text-align: right;\n",
       "    }\n",
       "</style>\n",
       "<table border=\"1\" class=\"dataframe\">\n",
       "  <thead>\n",
       "    <tr style=\"text-align: right;\">\n",
       "      <th></th>\n",
       "      <th>SAT</th>\n",
       "      <th>GPA</th>\n",
       "    </tr>\n",
       "  </thead>\n",
       "  <tbody>\n",
       "    <tr>\n",
       "      <th>0</th>\n",
       "      <td>1714</td>\n",
       "      <td>2.40</td>\n",
       "    </tr>\n",
       "    <tr>\n",
       "      <th>1</th>\n",
       "      <td>1664</td>\n",
       "      <td>2.52</td>\n",
       "    </tr>\n",
       "    <tr>\n",
       "      <th>2</th>\n",
       "      <td>1760</td>\n",
       "      <td>2.54</td>\n",
       "    </tr>\n",
       "    <tr>\n",
       "      <th>3</th>\n",
       "      <td>1685</td>\n",
       "      <td>2.74</td>\n",
       "    </tr>\n",
       "    <tr>\n",
       "      <th>4</th>\n",
       "      <td>1693</td>\n",
       "      <td>2.83</td>\n",
       "    </tr>\n",
       "    <tr>\n",
       "      <th>...</th>\n",
       "      <td>...</td>\n",
       "      <td>...</td>\n",
       "    </tr>\n",
       "    <tr>\n",
       "      <th>79</th>\n",
       "      <td>1936</td>\n",
       "      <td>3.71</td>\n",
       "    </tr>\n",
       "    <tr>\n",
       "      <th>80</th>\n",
       "      <td>1810</td>\n",
       "      <td>3.71</td>\n",
       "    </tr>\n",
       "    <tr>\n",
       "      <th>81</th>\n",
       "      <td>1987</td>\n",
       "      <td>3.73</td>\n",
       "    </tr>\n",
       "    <tr>\n",
       "      <th>82</th>\n",
       "      <td>1962</td>\n",
       "      <td>3.76</td>\n",
       "    </tr>\n",
       "    <tr>\n",
       "      <th>83</th>\n",
       "      <td>2050</td>\n",
       "      <td>3.81</td>\n",
       "    </tr>\n",
       "  </tbody>\n",
       "</table>\n",
       "<p>84 rows × 2 columns</p>\n",
       "</div>"
      ],
      "text/plain": [
       "     SAT   GPA\n",
       "0   1714  2.40\n",
       "1   1664  2.52\n",
       "2   1760  2.54\n",
       "3   1685  2.74\n",
       "4   1693  2.83\n",
       "..   ...   ...\n",
       "79  1936  3.71\n",
       "80  1810  3.71\n",
       "81  1987  3.73\n",
       "82  1962  3.76\n",
       "83  2050  3.81\n",
       "\n",
       "[84 rows x 2 columns]"
      ]
     },
     "execution_count": 43,
     "metadata": {},
     "output_type": "execute_result"
    }
   ],
   "source": [
    "df1"
   ]
  },
  {
   "cell_type": "code",
   "execution_count": 44,
   "id": "eadd2fdc",
   "metadata": {},
   "outputs": [],
   "source": [
    "df2 = pd.read_csv('test.csv',names=['name','salary','city'])"
   ]
  },
  {
   "cell_type": "code",
   "execution_count": 45,
   "id": "1a309c0d",
   "metadata": {},
   "outputs": [
    {
     "data": {
      "text/html": [
       "<div>\n",
       "<style scoped>\n",
       "    .dataframe tbody tr th:only-of-type {\n",
       "        vertical-align: middle;\n",
       "    }\n",
       "\n",
       "    .dataframe tbody tr th {\n",
       "        vertical-align: top;\n",
       "    }\n",
       "\n",
       "    .dataframe thead th {\n",
       "        text-align: right;\n",
       "    }\n",
       "</style>\n",
       "<table border=\"1\" class=\"dataframe\">\n",
       "  <thead>\n",
       "    <tr style=\"text-align: right;\">\n",
       "      <th></th>\n",
       "      <th>name</th>\n",
       "      <th>salary</th>\n",
       "      <th>city</th>\n",
       "    </tr>\n",
       "  </thead>\n",
       "  <tbody>\n",
       "    <tr>\n",
       "      <th>0</th>\n",
       "      <td>avanti</td>\n",
       "      <td>5000</td>\n",
       "      <td>nagpur</td>\n",
       "    </tr>\n",
       "    <tr>\n",
       "      <th>1</th>\n",
       "      <td>prajwal</td>\n",
       "      <td>5678</td>\n",
       "      <td>akola</td>\n",
       "    </tr>\n",
       "    <tr>\n",
       "      <th>2</th>\n",
       "      <td>drushti</td>\n",
       "      <td>7899</td>\n",
       "      <td>pune</td>\n",
       "    </tr>\n",
       "    <tr>\n",
       "      <th>3</th>\n",
       "      <td>akshata</td>\n",
       "      <td>345566</td>\n",
       "      <td>delhi</td>\n",
       "    </tr>\n",
       "  </tbody>\n",
       "</table>\n",
       "</div>"
      ],
      "text/plain": [
       "      name  salary    city\n",
       "0   avanti    5000  nagpur\n",
       "1  prajwal    5678   akola\n",
       "2  drushti    7899    pune\n",
       "3  akshata  345566   delhi"
      ]
     },
     "execution_count": 45,
     "metadata": {},
     "output_type": "execute_result"
    }
   ],
   "source": [
    "df2"
   ]
  },
  {
   "cell_type": "code",
   "execution_count": null,
   "id": "f0141bd1",
   "metadata": {},
   "outputs": [],
   "source": []
  }
 ],
 "metadata": {
  "kernelspec": {
   "display_name": "Python 3",
   "language": "python",
   "name": "python3"
  },
  "language_info": {
   "codemirror_mode": {
    "name": "ipython",
    "version": 3
   },
   "file_extension": ".py",
   "mimetype": "text/x-python",
   "name": "python",
   "nbconvert_exporter": "python",
   "pygments_lexer": "ipython3",
   "version": "3.6.13"
  }
 },
 "nbformat": 4,
 "nbformat_minor": 5
}
